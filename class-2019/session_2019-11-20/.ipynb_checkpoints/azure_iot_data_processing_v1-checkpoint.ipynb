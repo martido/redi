{
 "cells": [
  {
   "cell_type": "markdown",
   "metadata": {},
   "source": [
    "List of original JSON attributes:\n",
    "* msgID\n",
    "* msgVer\n",
    "* gwID\n",
    "* dateTime\n",
    "* Regulator.Voltage\n",
    "* Regulator.Current\n",
    "* Regulator.Power\n",
    "* Regulator.Battery_voltage\n",
    "* Regulator.Battery charging current\n",
    "* Regulator.Battery charging power\n",
    "* Regulator.Load voltage\n",
    "* Regulator.Load current\n",
    "* Regulator.Load power\n",
    "* Regulator.Battery Temperature\n",
    "* Regulator.Temperature inside case\n",
    "* Regulator.Power component temperature\n",
    "* Regulator.Batterys remaining capacity\n",
    "* Regulator.Remote battery temperature\n",
    "* Regulator.Batterys rated power\n",
    "* Regulator.Battery status\n",
    "* Regulator.Charing equipment status\n",
    "* Regulator.Maximum input volt(PV) today\n",
    "* Regulator.Minimum input volt(PV) today\n",
    "* Regulator.Maximal battery volt today\n",
    "* Regulator.Minimum battery volt today\n",
    "* Regulator.Consumed energy today\n",
    "* Regulator.Consumed energy this month\n",
    "* Regulator.Consumed energy this year\n",
    "* Regulator.Total consumed energy\n",
    "* Regulator.Generated energy today\n",
    "* Regulator.Generated energy this month\n",
    "* Regulator.Generated energy this year\n",
    "* Regulator.Total generated energy\n",
    "* Regulator.Carbon dioxide reduction\n",
    "* Regulator.Battery current\n",
    "* Temp.Ambient Temp\n",
    "* Temp.Battery Temp\n",
    "* Light.LUX\n",
    "* Temp/Humi.Temperature in lab\n",
    "* Temp/Humi.Humidity in lab\n",
    "* Rated value.Panels rated voltage\n",
    "* Rated value.Panels rated current\n",
    "* Rated value.Panels rated power\n",
    "* Rated value.Batterys voltage\n",
    "* Rated value.Charging current to battery \n",
    "* Rated value.Charging power to battery\n",
    "* Rated value.Rated output current of load\n",
    "* WetterOnline.info.locations\n",
    "* WetterOnline.info.type\n",
    "* WetterOnline.x0411.data.dd_deg\n",
    "* WetterOnline.x0411.data.dd_dir\n",
    "* WetterOnline.x0411.data.ff_bft\n",
    "* WetterOnline.x0411.data.ff_ms\n",
    "* WetterOnline.x0411.data.fx_bft\n",
    "* WetterOnline.x0411.data.fx_kmh\n",
    "* WetterOnline.x0411.data.pop\n",
    "* WetterOnline.x0411.data.pp_hpa\n",
    "* WetterOnline.x0411.data.rad_wm2\n",
    "* WetterOnline.x0411.data.rh\n",
    "* WetterOnline.x0411.data.rr_mm\n",
    "* WetterOnline.x0411.data.tt_C\n",
    "* WetterOnline.x0411.data.tta_C\n",
    "* WetterOnline.x0411.data.wm\n",
    "* WetterOnline.x0411.meta.local_date"
   ]
  },
  {
   "cell_type": "code",
   "execution_count": 1,
   "metadata": {},
   "outputs": [],
   "source": [
    "import io\n",
    "import json\n",
    "import re\n",
    "import sys\n",
    "\n",
    "import avro.schema\n",
    "from avro.datafile import DataFileReader, DataFileWriter\n",
    "from avro.io import DatumReader, DatumWriter\n",
    "\n",
    "import pandas as pd\n",
    "from pandas.io.json import json_normalize\n",
    "\n",
    "from tqdm import tqdm\n",
    "\n",
    "from azure.storage.blob import BlockBlobService\n",
    "# See documentation\n",
    "# https://azure-storage.readthedocs.io/ref/azure.storage.blob.baseblobservice.html\n",
    "# https://azure-storage.readthedocs.io/ref/azure.storage.blob.models.html\n",
    "# https://github.com/Microsoft/AzureNotebooks/blob/master/Samples/Access%20your%20data%20in%20Azure%20Notebooks.ipynb\n",
    "\n",
    "pd.options.display.max_rows = 100"
   ]
  },
  {
   "cell_type": "code",
   "execution_count": 6,
   "metadata": {},
   "outputs": [],
   "source": [
    "load_data_from_azure = True\n",
    "azure_storage_account_name = \"redischoolstorage\"\n",
    "azure_storage_account_key = \"<see Azure portal>\"\n",
    "azure_container = 'iotdataavro'\n",
    "azure_blob_prefix = 'redischoolhub/03/2019/10'\n",
    "export_pickle_filename = '2019_10.pickle'\n",
    "export_csv_filename = 'iot_data_2019.csv'"
   ]
  },
  {
   "cell_type": "markdown",
   "metadata": {},
   "source": [
    "# Load data from Azure Blob Storage"
   ]
  },
  {
   "cell_type": "code",
   "execution_count": 7,
   "metadata": {},
   "outputs": [
    {
     "name": "stdout",
     "output_type": "stream",
     "text": [
      "100%|██████████| 5201/5201 [16:53<00:00,  5.13it/s]   \n"
     ]
    }
   ],
   "source": [
    "if load_data_from_azure:\n",
    "    \n",
    "    # Connect to our storage account.\n",
    "    blob_service = BlockBlobService(azure_storage_account_name, azure_storage_account_key)\n",
    "\n",
    "    # List containers.\n",
    "    containers = blob_service.list_containers()\n",
    "    # for c in containers:\n",
    "    #    print(c.name)\n",
    "\n",
    "    df_total = pd.DataFrame()\n",
    "\n",
    "    blobs = []\n",
    "    for blob in blob_service.list_blobs(azure_container, prefix=azure_blob_prefix):\n",
    "\n",
    "        # Only include data that was collected between 7am and 19pm (daylight, roughly).\n",
    "        # match = re.match('redischoolhub\\/\\d{2}\\/\\d{4}\\/\\d{2}\\/\\d{2}\\/(\\d{2})\\/\\d{2}', blob.name)\n",
    "        # hour = int(match.group(1))\n",
    "        # if hour >= 5 and hour <= 17:\n",
    "        #     blobs.append(blob.name)\n",
    "        blobs.append(blob.name)\n",
    "\n",
    "    with tqdm(total=len(blobs), file=sys.stdout) as pbar:    \n",
    "        for i, name in enumerate(blobs):\n",
    "            pbar.update(1)\n",
    "\n",
    "            blob = blob_service.get_blob_to_bytes(azure_container, name)\n",
    "\n",
    "            # Open the binary Avro downloaded from Azure.\n",
    "            reader = DataFileReader(io.BytesIO(blob.content), DatumReader())\n",
    "            for elem in reader:\n",
    "                body = elem['Body']\n",
    "\n",
    "                # The JSON in the Avro is a byte object, not a string.\n",
    "                json_str = str(body, \"utf8\")\n",
    "\n",
    "                # The JSON is not really a JSON because it uses single quotes instead of double quotes.\n",
    "                json_str = json_str.replace(\"'\", '\"')\n",
    "\n",
    "                # Now we can parse the JSON. It is quite complicated, but here comes Pandas.\n",
    "                json_df = json_normalize(json.loads(json_str))\n",
    "\n",
    "                df_total = df_total.append(json_df)\n",
    "            reader.close()\n",
    "\n",
    "    df_total.to_pickle(export_pickle_filename)\n",
    "    df_total"
   ]
  },
  {
   "cell_type": "markdown",
   "metadata": {},
   "source": [
    "# Clean up data"
   ]
  },
  {
   "cell_type": "code",
   "execution_count": null,
   "metadata": {},
   "outputs": [],
   "source": [
    "df_total = pd.read_pickle(export_pickle_filename)"
   ]
  },
  {
   "cell_type": "markdown",
   "metadata": {},
   "source": [
    "## Drop rows with null values"
   ]
  },
  {
   "cell_type": "code",
   "execution_count": null,
   "metadata": {},
   "outputs": [],
   "source": [
    "# Do we have null values?\n",
    "null_columns=df_total.columns[df_total.isnull().any()]\n",
    "df_total[null_columns].isnull().sum()"
   ]
  },
  {
   "cell_type": "code",
   "execution_count": null,
   "metadata": {},
   "outputs": [],
   "source": [
    "# Drop rows with null values.\n",
    "df_total = df_total.dropna(axis=0)"
   ]
  },
  {
   "cell_type": "markdown",
   "metadata": {},
   "source": [
    "## Add DateTime index for convenient indexing"
   ]
  },
  {
   "cell_type": "code",
   "execution_count": null,
   "metadata": {},
   "outputs": [],
   "source": [
    "df_total['dateTime_local'] = df_total['dateTime'].str.replace('\\+00','+02')\n",
    "df_total['dateTime_local'] = pd.to_datetime(df_total['dateTime_local']).dt.tz_convert('Europe/Berlin')\n",
    "df_total.set_index(['dateTime_local'], inplace=True)"
   ]
  },
  {
   "cell_type": "markdown",
   "metadata": {},
   "source": [
    "## One-hot encode a few columns"
   ]
  },
  {
   "cell_type": "code",
   "execution_count": null,
   "metadata": {},
   "outputs": [],
   "source": [
    "# One-hot encode the WetterOnline.x0411.data.wm attribute.\n",
    "df_wm_dummies = pd.get_dummies(df_total['WetterOnline.x0411.data.wm'], prefix='WetterOnline.wm')\n",
    "df_total = pd.concat([df_total, df_wm_dummies], axis=1)"
   ]
  },
  {
   "cell_type": "code",
   "execution_count": null,
   "metadata": {},
   "outputs": [],
   "source": [
    "# One-hot encode the WetterOnline.x0411.data.dd_dir attribute.\n",
    "df_dd_dir_dummies = pd.get_dummies(df_total['WetterOnline.x0411.data.dd_dir'], prefix='WetterOnline.dd_dir')\n",
    "df_total = pd.concat([df_total, df_dd_dir_dummies], axis=1)"
   ]
  },
  {
   "cell_type": "markdown",
   "metadata": {},
   "source": [
    "## Compute linear correlation between variables"
   ]
  },
  {
   "cell_type": "code",
   "execution_count": null,
   "metadata": {},
   "outputs": [],
   "source": [
    "# Compute correlation between variables.\n",
    "df_corr = df_total.corr(method='pearson')['Regulator.Power']"
   ]
  },
  {
   "cell_type": "code",
   "execution_count": null,
   "metadata": {},
   "outputs": [],
   "source": [
    "# Only keep columns that have a decent linear correlation.\n",
    "df = df_total[[\n",
    "    'Regulator.Power',\n",
    "    'Light.LUX',\n",
    "    'Regulator.Temperature inside case',\n",
    "    'Temp/Humi.Humidity in lab',\n",
    "    'WetterOnline.x0411.data.pop',\n",
    "    'WetterOnline.x0411.data.rad_wm2',\n",
    "    'WetterOnline.x0411.data.rh',\n",
    "    'WetterOnline.x0411.data.tt_C',\n",
    "    'WetterOnline.x0411.data.tta_C',\n",
    "    'WetterOnline.wm_so____']]"
   ]
  },
  {
   "cell_type": "code",
   "execution_count": null,
   "metadata": {
    "scrolled": true
   },
   "outputs": [],
   "source": [
    "df.corr(method='pearson')['Regulator.Power']"
   ]
  },
  {
   "cell_type": "code",
   "execution_count": null,
   "metadata": {},
   "outputs": [],
   "source": [
    "# Export to CSV\n",
    "df.to_csv(export_csv_data, index=False)"
   ]
  }
 ],
 "metadata": {
  "kernelspec": {
   "display_name": "redi2019",
   "language": "python",
   "name": "redi2019"
  },
  "language_info": {
   "codemirror_mode": {
    "name": "ipython",
    "version": 3
   },
   "file_extension": ".py",
   "mimetype": "text/x-python",
   "name": "python",
   "nbconvert_exporter": "python",
   "pygments_lexer": "ipython3",
   "version": "3.6.9"
  }
 },
 "nbformat": 4,
 "nbformat_minor": 2
}
