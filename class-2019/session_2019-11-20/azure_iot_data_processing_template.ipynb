{
 "cells": [
  {
   "cell_type": "markdown",
   "metadata": {},
   "source": [
    "# What's Avro?\n",
    "* The data from our solar panel is stored in Azure Blob Storage.\n",
    "* It's stored using the Avro serialization system (https://avro.apache.org/).\n",
    "* In a nutshell, Avro is a compact, fast, binary data format.\n",
    "* Avro relies on schemas. Schemas describe the data, its attributes and types.\n",
    "* The schema is always part of the data itself, no need to store it separately.\n",
    "* There's a Python library to read and write Avro files."
   ]
  },
  {
   "cell_type": "markdown",
   "metadata": {},
   "source": [
    "# Download data from Azure Blob Storage"
   ]
  },
  {
   "cell_type": "code",
   "execution_count": null,
   "metadata": {},
   "outputs": [],
   "source": [
    "# Connect to our storage account on Azure, download some blobs, and collect them into a list.\n",
    "# The list may also contain only one element, it really depends on how many blobs you download.\n",
    "# For the purpose of this excercise, it might make sense to download only a single blob.\n",
    "#\n",
    "# Hint: Log in to the Azure portal and look for the storage account name and key.\n",
    "# Hint: Check out the blob structure in the \"Storage Explorer (preview)\".\n",
    "# Hint: Look at the documentation of BlockBlobService and look for a suitable method.\n",
    "#       See https://azure-storage.readthedocs.io/ref/azure.storage.blob.baseblobservice.html.\n",
    "# \n",
    "# Note: If you print the blob's content, you will see the binary Avro string.\n",
    "\n",
    "azure_storage_account_name = \"<See Azure portal>\"\n",
    "azure_storage_account_key = \"<See Azure portal>\"\n",
    "azure_blob_container = 'iotdataavro'\n",
    "\n",
    "from azure.storage.blob import BlockBlobService\n",
    "blob_service = BlockBlobService(azure_storage_account_name, azure_storage_account_key)\n",
    "\n",
    "blobs = []\n",
    "\n",
    "##### YOUR CODE GOES HERE #####\n"
   ]
  },
  {
   "cell_type": "markdown",
   "metadata": {},
   "source": [
    "# Deserialize Avro messages"
   ]
  },
  {
   "cell_type": "code",
   "execution_count": null,
   "metadata": {},
   "outputs": [],
   "source": [
    "# Deserialize the Avro messages, extract the payload, and collect them into a list.\n",
    "# Check out the attributes of the messages. Which one actually contains the payload?\n",
    "#\n",
    "# Hint: Use DataFileReader from the Avro API and pass it the content of a blob.\n",
    "#       See https://avro.apache.org/docs/current/gettingstartedpython.html\n",
    "# Hint: If you downloaded the blob as an array of bytes, wrap the content in io.BytesIO.\n",
    "# Hint: DataFileReader is an iterator that returns dicts corresponding to the serialized items.\n",
    "#\n",
    "# Note: Most blobs contain two Avro messages. That's why 'payload' is a list.\n",
    "# Note: Don't forget to close the Avro reader in the end.\n",
    "\n",
    "from avro.datafile import DataFileReader\n",
    "from avro.io import DatumReader\n",
    "\n",
    "payload = []\n",
    "\n",
    "##### YOUR CODE GOES HERE #####\n"
   ]
  },
  {
   "cell_type": "markdown",
   "metadata": {},
   "source": [
    "# Parse JSON payload"
   ]
  },
  {
   "cell_type": "code",
   "execution_count": null,
   "metadata": {},
   "outputs": [],
   "source": [
    "# Parse the JSONs that you extracted from the Avro messages, and collect them into a list.\n",
    "#\n",
    "# Hint: Use Python's built-in JSON libary.\n",
    "# Hint: The payload that you get from Avro is a byte array (if you print it, the line starts with a 'b').\n",
    "#       You have to convert the bytes to a String using UTF-8 encoding.\n",
    "\n",
    "import json\n",
    "\n",
    "json = []\n",
    "\n",
    "##### YOUR CODE GOES HERE #####\n"
   ]
  },
  {
   "cell_type": "markdown",
   "metadata": {},
   "source": [
    "# Convert JSON to Pandas DataFrame"
   ]
  },
  {
   "cell_type": "code",
   "execution_count": null,
   "metadata": {},
   "outputs": [],
   "source": [
    "# Convert the parsed JSON objects into a single Pandas DataFrame.\n",
    "#\n",
    "# Hint: Use Pandas's json_normalize method to flatten the nested JSON structure.\n",
    "\n",
    "import pandas as pd\n",
    "\n",
    "df = pd.DataFrame()\n",
    "\n",
    "##### YOUR CODE GOES HERE #####\n"
   ]
  },
  {
   "cell_type": "markdown",
   "metadata": {},
   "source": [
    "# Possible next steps\n",
    "* Understand what's in the data. --> See Norbert's part.\n",
    "* Clean the data, e.g. remove rows with null values.\n",
    "* Add a time-based index. \n",
    "* One-hot encode categorical variables.\n",
    "* Create a linear correlation matrix.\n",
    "* Select features for first ML model."
   ]
  }
 ],
 "metadata": {
  "kernelspec": {
   "display_name": "redi2019",
   "language": "python",
   "name": "redi2019"
  },
  "language_info": {
   "codemirror_mode": {
    "name": "ipython",
    "version": 3
   },
   "file_extension": ".py",
   "mimetype": "text/x-python",
   "name": "python",
   "nbconvert_exporter": "python",
   "pygments_lexer": "ipython3",
   "version": "3.6.9"
  }
 },
 "nbformat": 4,
 "nbformat_minor": 2
}
